{
 "cells": [
  {
   "cell_type": "markdown",
   "id": "8143128a",
   "metadata": {},
   "source": [
    "# 🧠 Embeddings and Similarity Scores\n",
    "This notebook demonstrates how to:\n",
    "- Embed short text snippets\n",
    "- Compute pairwise similarity scores using cosine similarity\n",
    "- Identify most semantically aligned statements"
   ]
  },
  {
   "cell_type": "code",
   "execution_count": null,
   "id": "ee07df73",
   "metadata": {},
   "outputs": [],
   "source": [
    "# 🟩 Install dependencies\n",
    "!pip install -q sentence-transformers scikit-learn"
   ]
  },
  {
   "cell_type": "code",
   "execution_count": null,
   "id": "1e5a2b1e",
   "metadata": {},
   "outputs": [],
   "source": [
    "# 🔤 Define  texts\n",
    "texts = [\n",
    "    \"Silk black asymmetric gown with structured shoulders\",\n",
    "    \"Minimalist white cotton dress with pleated skirt\",\n",
    "    \"True winter red blazer with peak lapels\",\n",
    "    \"Cobalt blue tailored pants with high waist\",\n",
    "    \"Black leather ankle boots with silver zipper\",\n",
    "    \"Winter red turtleneck sweater with clean lines\"\n",
    "]"
   ]
  },
  {
   "cell_type": "code",
   "execution_count": null,
   "id": "67f598a6",
   "metadata": {},
   "outputs": [],
   "source": [
    "# ✨ Load SentenceTransformer embedding model\n",
    "from sentence_transformers import SentenceTransformer\n",
    "model = SentenceTransformer('all-MiniLM-L6-v2')\n",
    "embeddings = model.encode(texts, convert_to_tensor=True)\n",
    "embeddings.shape"
   ]
  },
  {
   "cell_type": "code",
   "execution_count": null,
   "id": "f4505bfa",
   "metadata": {},
   "outputs": [],
   "source": [
    "# 📊 Compute similarity scores\n",
    "from sklearn.metrics.pairwise import cosine_similarity\n",
    "import pandas as pd\n",
    "\n",
    "similarity_matrix = cosine_similarity(embeddings)\n",
    "df = pd.DataFrame(similarity_matrix, columns=[f\"T{i+1}\" for i in range(len(texts))], index=[f\"T{i+1}\" for i in range(len(texts))])\n",
    "df.style.background_gradient(cmap='Blues')"
   ]
  },
  {
   "cell_type": "code",
   "execution_count": null,
   "id": "fe404f1b",
   "metadata": {},
   "outputs": [],
   "source": [
    "# 🧭 Print ranked most similar text pairs\n",
    "import numpy as np\n",
    "\n",
    "pairs = []\n",
    "for i in range(len(texts)):\n",
    "    for j in range(i + 1, len(texts)):\n",
    "        score = similarity_matrix[i, j]\n",
    "        pairs.append(((texts[i], texts[j]), score))\n",
    "\n",
    "sorted_pairs = sorted(pairs, key=lambda x: x[1], reverse=True)\n",
    "for (a, b), score in sorted_pairs[:3]:\n",
    "    print(f\"Score: {score:.4f}\\n↳ '{a}'\\n↳ '{b}'\\n\")"
   ]
  }
 ],
 "metadata": {
  "language_info": {
   "name": "python"
  }
 },
 "nbformat": 4,
 "nbformat_minor": 5
}
