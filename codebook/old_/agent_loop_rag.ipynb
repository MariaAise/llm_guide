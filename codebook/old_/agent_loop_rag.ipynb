{
 "cells": [
  {
   "cell_type": "raw",
   "id": "e180a895",
   "metadata": {},
   "source": [
    "---\n",
    "keywords: [agent, fashion AI, ReAct, LangChain]\n",
    "---"
   ]
  },
  {
   "cell_type": "markdown",
   "id": "5ef0cc5a",
   "metadata": {},
   "source": [
    "# 🎯 AI Agent with LangChain (ReAct)\n",
    "This notebook demonstrates how to build an LLM agent using LangChain's **ReAct framework**, focused on **business intelligence tasks** like analyzing brand communications, press releases, and news.\n",
    "\n",
    "💡 Use case: _“Which fashion brands mentioned sustainability this week, and what actions did they claim?”_"
   ]
  },
  {
   "cell_type": "markdown",
   "id": "9f39822f",
   "metadata": {},
   "source": [
    "## 🛠 Setup\n",
    "\n",
    "We'll install the needed libraries and configure the LLM backend."
   ]
  },
  {
   "cell_type": "code",
   "execution_count": null,
   "id": "ec6eae5b",
   "metadata": {},
   "outputs": [],
   "source": [
    "# %pip install langchain langgraph openai google-search langchain-google-vertexai"
   ]
  },
  {
   "cell_type": "code",
   "execution_count": null,
   "id": "6c409012",
   "metadata": {},
   "outputs": [],
   "source": [
    "# Toggle between Gemini (default) and OpenAI\n",
    "USE_GEMINI = True"
   ]
  },
  {
   "cell_type": "code",
   "execution_count": null,
   "id": "dbd96fcd",
   "metadata": {},
   "outputs": [],
   "source": [
    "if USE_GEMINI:\n",
    "    from langchain.chat_models import ChatVertexAI\n",
    "    llm = ChatVertexAI(model='gemini-1.5-flash')\n",
    "else:\n",
    "    from langchain.chat_models import ChatOpenAI\n",
    "    llm = ChatOpenAI(model='gpt-4', temperature=0)"
   ]
  },
  {
   "cell_type": "markdown",
   "id": "9ed2d70d",
   "metadata": {},
   "source": [
    "## 🔧 Define Tools\n",
    "\n",
    "These tools allow the agent to search for fashion brand news and location info. We simulate a web search and location lookup — typical of a fashion trend analysis agent."
   ]
  },
  {
   "cell_type": "code",
   "execution_count": null,
   "id": "887f7ed3",
   "metadata": {},
   "outputs": [],
   "source": [
    "from langchain.tools import tool\n",
    "from langchain.utilities import SerpAPIWrapper, GooglePlacesAPIWrapper\n",
    "\n",
    "@tool\n",
    "def search(query: str) -> str:\n",
    "    \"\"\"Search fashion news and brand updates.\"\"\"\n",
    "    return SerpAPIWrapper().run(query)\n",
    "\n",
    "@tool\n",
    "def places(query: str) -> str:\n",
    "    \"\"\"Look up fashion house HQ or event locations.\"\"\"\n",
    "    return GooglePlacesAPIWrapper().run(query)\n",
    "\n",
    "tools = [search, places]"
   ]
  },
  {
   "cell_type": "markdown",
   "id": "1489bac9",
   "metadata": {},
   "source": [
    "## 🧠 Use LLM with Tools"
   ]
  },
  {
   "cell_type": "code",
   "execution_count": null,
   "id": "39d24fe0",
   "metadata": {},
   "outputs": [],
   "source": [
    "llm_with_tools = llm.bind_tools(tools)"
   ]
  },
  {
   "cell_type": "markdown",
   "id": "cdd86c66",
   "metadata": {},
   "source": [
    "## 🤖 Create ReAct Agent"
   ]
  },
  {
   "cell_type": "code",
   "execution_count": null,
   "id": "9501e829",
   "metadata": {},
   "outputs": [],
   "source": [
    "from langgraph.prebuilt import create_react_agent\n",
    "\n",
    "agent_executor = create_react_agent(llm_with_tools, tools)"
   ]
  },
  {
   "cell_type": "markdown",
   "id": "1737706f",
   "metadata": {},
   "source": [
    "## ▶️ Run Agent on Fashion Query"
   ]
  },
  {
   "cell_type": "code",
   "execution_count": null,
   "id": "9263f89f",
   "metadata": {},
   "outputs": [],
   "source": [
    "input_query = \"Which fashion brands mentioned sustainability this week, and where are their events held?\"\n",
    "response = agent_executor.invoke({\"input\": input_query})\n",
    "print(response['output'])"
   ]
  },
  {
   "cell_type": "markdown",
   "id": "aa7e364b",
   "metadata": {},
   "source": [
    "## ✅ Summary\n",
    "\n",
    "You just built a research-style Fashion AI agent that:\n",
    "- Uses Gemini or OpenAI as backend\n",
    "- Applies ReAct loop to break down tasks\n",
    "- Calls real-time tools (Search, Places)\n",
    "\n",
    "This can be extended with brand-specific datasets, embedding search, or trigger detection models."
   ]
  }
 ],
 "metadata": {
  "language_info": {
   "name": "python"
  }
 },
 "nbformat": 4,
 "nbformat_minor": 5
}
